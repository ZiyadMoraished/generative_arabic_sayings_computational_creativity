{
 "cells": [
  {
   "cell_type": "code",
   "execution_count": 1,
   "id": "304b8811-1e81-4a5c-9213-fee8e3e920ce",
   "metadata": {
    "execution": {
     "iopub.execute_input": "2022-01-27T14:55:52.207500Z",
     "iopub.status.busy": "2022-01-27T14:55:52.207234Z",
     "iopub.status.idle": "2022-01-27T14:55:53.032077Z",
     "shell.execute_reply": "2022-01-27T14:55:53.031522Z",
     "shell.execute_reply.started": "2022-01-27T14:55:52.207437Z"
    }
   },
   "outputs": [],
   "source": [
    "import requests\n",
    "from bs4 import BeautifulSoup\n"
   ]
  },
  {
   "cell_type": "markdown",
   "id": "d423c903-be20-429c-be7e-38f640ec18f9",
   "metadata": {},
   "source": [
    "# collect links for all authors"
   ]
  },
  {
   "cell_type": "code",
   "execution_count": 52,
   "id": "e9fd5eb1-a340-4429-8711-4ef85c2e38bb",
   "metadata": {
    "execution": {
     "iopub.execute_input": "2022-01-27T15:25:23.271249Z",
     "iopub.status.busy": "2022-01-27T15:25:23.270956Z",
     "iopub.status.idle": "2022-01-27T15:25:56.845260Z",
     "shell.execute_reply": "2022-01-27T15:25:56.844653Z",
     "shell.execute_reply.started": "2022-01-27T15:25:23.271215Z"
    },
    "tags": []
   },
   "outputs": [],
   "source": [
    "links = []\n",
    "for page_number in range(1,51):\n",
    "    req = requests.get('https://arabic-quotes.com/authors?page={}'.format(page_number))\n",
    "    html = req.content\n",
    "    soup = BeautifulSoup(html,'html.parser')\n",
    "    \n",
    "    authors = soup.find_all(class_='author-name')\n",
    "    for author in authors:\n",
    "        link = 'https://arabic-quotes.com/'+author['href'].strip()\n",
    "        links.append(link)\n",
    "#     break"
   ]
  },
  {
   "cell_type": "code",
   "execution_count": 69,
   "id": "9f14a08b-d63d-452c-9b59-501707f29cde",
   "metadata": {
    "execution": {
     "iopub.execute_input": "2022-01-27T15:39:13.485716Z",
     "iopub.status.busy": "2022-01-27T15:39:13.485489Z",
     "iopub.status.idle": "2022-01-27T15:39:13.490213Z",
     "shell.execute_reply": "2022-01-27T15:39:13.489411Z",
     "shell.execute_reply.started": "2022-01-27T15:39:13.485691Z"
    }
   },
   "outputs": [
    {
     "data": {
      "text/plain": [
       "'https://arabic-quotes.com//authors/96/وليام-شكسبير'"
      ]
     },
     "execution_count": 69,
     "metadata": {},
     "output_type": "execute_result"
    }
   ],
   "source": [
    "links[0]"
   ]
  },
  {
   "cell_type": "markdown",
   "id": "f861366e-ed9c-4ada-9cfe-01a63118194b",
   "metadata": {},
   "source": [
    "# Loop over each author page to get their sayings"
   ]
  },
  {
   "cell_type": "code",
   "execution_count": 75,
   "id": "9f262c8a-0b6b-4420-b2c6-19899215b8f2",
   "metadata": {
    "execution": {
     "iopub.execute_input": "2022-01-27T15:42:38.918243Z",
     "iopub.status.busy": "2022-01-27T15:42:38.918026Z",
     "iopub.status.idle": "2022-01-27T16:08:52.770215Z",
     "shell.execute_reply": "2022-01-27T16:08:52.769591Z",
     "shell.execute_reply.started": "2022-01-27T15:42:38.918219Z"
    },
    "tags": []
   },
   "outputs": [],
   "source": [
    "for link in links:\n",
    "    req = requests.get(link)\n",
    "    html = req.content\n",
    "    soup = BeautifulSoup(html,'html.parser')\n",
    "    \n",
    "    # if an author has multiple pages\n",
    "    try:\n",
    "        pagination = soup.find(class_='pagination').find_all('li')\n",
    "        pages_count = len(pagination) - 1 # this is quals to remove next page, previous page, and add the current page\n",
    "    # if author has a single page\n",
    "    except:\n",
    "        pages_count = 1\n",
    "        \n",
    "    # loop over th pages    \n",
    "    for author_page in range(1, pages_count+1):\n",
    "        req = requests.get(link+'?page={}'.format(author_page))\n",
    "        html = req.content\n",
    "        soup = BeautifulSoup(html,'html.parser')\n",
    "        \n",
    "        sayings_list = soup.find_all(class_='quote-text')\n",
    "        \n",
    "        # write all sayings to a text file\n",
    "        with open(\"arabic-quotes.com_sayings.txt\", \"a\") as f:\n",
    "            for text in sayings_list:\n",
    "        #         print(text)\n",
    "        #         print(type(text))\n",
    "                say = text.text.strip()\n",
    "            # Append 'hello' at the end of file\n",
    "                f.write('\\n'+say)"
   ]
  },
  {
   "cell_type": "code",
   "execution_count": null,
   "id": "26346006-3d15-439c-ab48-9c7a6b526050",
   "metadata": {},
   "outputs": [],
   "source": []
  }
 ],
 "metadata": {
  "kernelspec": {
   "display_name": "Python 3",
   "language": "python",
   "name": "python3"
  },
  "language_info": {
   "codemirror_mode": {
    "name": "ipython",
    "version": 3
   },
   "file_extension": ".py",
   "mimetype": "text/x-python",
   "name": "python",
   "nbconvert_exporter": "python",
   "pygments_lexer": "ipython3",
   "version": "3.8.8"
  }
 },
 "nbformat": 4,
 "nbformat_minor": 5
}
